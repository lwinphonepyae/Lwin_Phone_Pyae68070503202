{
 "cells": [
  {
   "cell_type": "markdown",
   "id": "186222d0",
   "metadata": {},
   "source": [
    "Exercise 1\n",
    "\n",
    "Write a function to report the weather condition. \n",
    "Input ==> Temperature ('C)\n",
    "\n",
    "IF the temperature is below 0, print \"Freezing Cold\"\n",
    "IF the temperature is 0-20, print \"Cold Weather\"\n",
    "IF the temperature is 21-30, print \" Warm Weather\"\n",
    "Otherwise, print \"Hot Weather\""
   ]
  },
  {
   "cell_type": "code",
   "execution_count": null,
   "id": "4bbb422e",
   "metadata": {},
   "outputs": [],
   "source": [
    "def weather_report(temp: float):\n",
    "    if temp < 0:\n",
    "        print(\"Freezing Cold\")\n",
    "    elif temp <= 20:\n",
    "        print(\"Cold Weather\")\n",
    "    elif temp <= 30:\n",
    "        print(\"Warm Weather\")"
   ]
  },
  {
   "cell_type": "markdown",
   "id": "36f44c18",
   "metadata": {},
   "source": [
    "Exercise 2\n",
    "\n",
    "Write a function that takes an integer as an input score\n",
    "\n",
    "If the score is greater than or equal to 50, print \"Pass\"\n",
    "If the score is greater than or equal to 75, print \"Good\"\n",
    "If the score is exactly 100, print \"Perfect\"\n",
    "\n",
    "Since these are multiple independent conditions, more than one message print"
   ]
  },
  {
   "cell_type": "code",
   "execution_count": 8,
   "id": "b3971fd8",
   "metadata": {},
   "outputs": [
    {
     "name": "stdout",
     "output_type": "stream",
     "text": [
      "Pass\n",
      "Good\n",
      "Perfect\n"
     ]
    }
   ],
   "source": [
    "def get_score(score: float):\n",
    "    if score >= 50:\n",
    "        print(\"Pass\")\n",
    "    if score >= 75:\n",
    "        print(\"Good\")\n",
    "    if score >= 100:\n",
    "        print(\"Perfect\")\n",
    "# test\n",
    "get_score(100)"
   ]
  },
  {
   "cell_type": "markdown",
   "id": "5c1b906e",
   "metadata": {},
   "source": [
    "Exercise 3\n",
    "\n",
    "Write a program that returns the count of vowels in the string. Use a for loop to go through each character in the string.\n",
    "\n",
    "Input ==> apple, Output ==> 2\n",
    "\n",
    "Input ==> Hello World, Output => 3\n",
    "\n",
    "Input ==> balloon, Output ==> 3"
   ]
  },
  {
   "cell_type": "code",
   "execution_count": 16,
   "id": "64239a6d",
   "metadata": {},
   "outputs": [
    {
     "ename": "NameError",
     "evalue": "name 'count' is not defined",
     "output_type": "error",
     "traceback": [
      "\u001b[31m---------------------------------------------------------------------------\u001b[39m",
      "\u001b[31mNameError\u001b[39m                                 Traceback (most recent call last)",
      "\u001b[36mCell\u001b[39m\u001b[36m \u001b[39m\u001b[32mIn[16]\u001b[39m\u001b[32m, line 7\u001b[39m\n\u001b[32m      5\u001b[39m         \u001b[38;5;28;01mif\u001b[39;00m ch \u001b[38;5;129;01min\u001b[39;00m vowels:\n\u001b[32m      6\u001b[39m             count += \u001b[32m1\u001b[39m\n\u001b[32m----> \u001b[39m\u001b[32m7\u001b[39m \u001b[38;5;28mprint\u001b[39m(\u001b[33m\"\u001b[39m\u001b[33mNumber of vowels\u001b[39m\u001b[33m\"\u001b[39m, \u001b[43mcount\u001b[49m)\n",
      "\u001b[31mNameError\u001b[39m: name 'count' is not defined"
     ]
    }
   ],
   "source": [
    "def count_vowels(text):\n",
    "    count = 0\n",
    "    vowels = \"aeiouAEIOU\"\n",
    "    for ch in text:\n",
    "        if ch in vowels:\n",
    "            count += 1\n",
    "print(\"Number of vowels\", count)"
   ]
  }
 ],
 "metadata": {
  "kernelspec": {
   "display_name": "Python 3",
   "language": "python",
   "name": "python3"
  },
  "language_info": {
   "codemirror_mode": {
    "name": "ipython",
    "version": 3
   },
   "file_extension": ".py",
   "mimetype": "text/x-python",
   "name": "python",
   "nbconvert_exporter": "python",
   "pygments_lexer": "ipython3",
   "version": "3.13.7"
  }
 },
 "nbformat": 4,
 "nbformat_minor": 5
}
